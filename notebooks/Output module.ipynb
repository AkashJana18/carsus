{
 "cells": [
  {
   "cell_type": "code",
   "execution_count": 1,
   "metadata": {
    "collapsed": false
   },
   "outputs": [
    {
     "name": "stdout",
     "output_type": "stream",
     "text": [
      "Initializing the database\n",
      "Ingesting basic atomic data\n"
     ]
    }
   ],
   "source": [
    "from carsus import init_db\n",
    "session = init_db(\"sqlite://\")\n",
    "session.commit()"
   ]
  },
  {
   "cell_type": "code",
   "execution_count": 2,
   "metadata": {
    "collapsed": false
   },
   "outputs": [
    {
     "name": "stdout",
     "output_type": "stream",
     "text": [
      "Downloading the data from http://physics.nist.gov/cgi-bin/Compositions/stand_alone.pl\n",
      "Ingesting atomic weights\n"
     ]
    }
   ],
   "source": [
    "from carsus.io.nist import NISTWeightsCompIngester\n",
    "ingester = NISTWeightsCompIngester()\n",
    "ingester.download()\n",
    "ingester.ingest(session)"
   ]
  },
  {
   "cell_type": "code",
   "execution_count": 3,
   "metadata": {
    "collapsed": false
   },
   "outputs": [
    {
     "name": "stdout",
     "output_type": "stream",
     "text": [
      "              symbol       name  group  period\n",
      "atomic_number                                 \n",
      "1                  H   Hydrogen      1       1\n",
      "2                 He     Helium     18       1\n",
      "3                 Li    Lithium      1       2\n",
      "4                 Be  Beryllium      2       2\n",
      "5                  B      Boron     13       2\n"
     ]
    }
   ],
   "source": [
    "from carsus.io.output import AtomsDataset, Dataset\n",
    "\n",
    "# Create a dataset and load with the atoms data from the database. \n",
    "\n",
    "atoms = AtomsDataset()\n",
    "atoms.load_sql(session)\n",
    "print atoms.data.head(5)\n"
   ]
  },
  {
   "cell_type": "code",
   "execution_count": 4,
   "metadata": {
    "collapsed": false,
    "scrolled": true
   },
   "outputs": [
    {
     "name": "stdout",
     "output_type": "stream",
     "text": [
      "              symbol       name  group  period  atomic_weight_value  \\\n",
      "atomic_number                                                         \n",
      "1                  H   Hydrogen      1       1             1.007975   \n",
      "2                 He     Helium     18       1             4.002602   \n",
      "3                 Li    Lithium      1       2             6.967500   \n",
      "4                 Be  Beryllium      2       2             9.012183   \n",
      "5                  B      Boron     13       2            10.813500   \n",
      "\n",
      "               atomic_weight_uncert atomic_weight_data_source  \n",
      "atomic_number                                                  \n",
      "1                      1.350000e-04                      nist  \n",
      "2                      2.000000e-06                      nist  \n",
      "3                      2.950000e-02                      nist  \n",
      "4                      5.000000e-07                      nist  \n",
      "5                      7.500000e-03                      nist  \n"
     ]
    }
   ],
   "source": [
    "# Include atomic weights into the dataset\n",
    "\n",
    "atoms2 = AtomsDataset()\n",
    "atoms2.load_sql(session, load_atomic_weights=True)\n",
    "print atoms2.data.head(5)"
   ]
  },
  {
   "cell_type": "code",
   "execution_count": 5,
   "metadata": {
    "collapsed": false
   },
   "outputs": [
    {
     "name": "stdout",
     "output_type": "stream",
     "text": [
      "   z  weight_solMass  z**2+5\n",
      "0  1    8.414768e-58       6\n",
      "1  2    3.341449e-57       9\n",
      "2  3    5.816602e-57      14\n",
      "3  4    7.523543e-57      21\n",
      "4  5    9.027316e-57      30\n"
     ]
    }
   ],
   "source": [
    "# Lets put out a table with z, weight in solar masses, z**2 + 5\n",
    "\n",
    "# First we need to write a query\n",
    "# Unit conversion is done on the DB side!\n",
    "from carsus.model import Atom, AtomicWeight\n",
    "from astropy import units as u\n",
    "q = session.query(Atom.atomic_number.label(\"z\"),\n",
    "                  AtomicWeight.quantity.convert_to(u.solMass).value.label(\"weight_solMass\")).\\\n",
    "                  join(Atom.quantities.of_type(AtomicWeight))\n",
    "\n",
    "# Then we use pandas to read the query into a DataFrame\n",
    "from pandas import read_sql_query\n",
    "df = read_sql_query(q.selectable, session.bind)\n",
    "\n",
    "# Once we have the data we can compute things\n",
    "df[\"z**2+5\"] = df[\"z\"]**2 + 5\n",
    "\n",
    "print df.head(5)"
   ]
  },
  {
   "cell_type": "code",
   "execution_count": 6,
   "metadata": {
    "collapsed": true
   },
   "outputs": [],
   "source": [
    "# To store this DataFrame in HDF format we need to create a Dataset object\n",
    "\n",
    "foo_ds = Dataset(\"foo\", df)"
   ]
  },
  {
   "cell_type": "code",
   "execution_count": 7,
   "metadata": {
    "collapsed": false
   },
   "outputs": [
    {
     "name": "stderr",
     "output_type": "stream",
     "text": [
      "/home/misha/.virtualenvs/carsus/lib/python2.7/site-packages/ipykernel/__main__.py:4: PerformanceWarning: \n",
      "your performance may suffer as PyTables will pickle object types that it cannot\n",
      "map directly to c-types [inferred_type->unicode,key->block1_values] [items->['symbol', 'name']]\n",
      "\n"
     ]
    }
   ],
   "source": [
    "# create_hdf() is used to put several datasets into an HDF file. Datasets' names are used as the identifiers in the file.\n",
    "\n",
    "from carsus.io.output import create_hdf\n",
    "create_hdf(\"store.h5\", datasets=[atoms, foo_ds])\n"
   ]
  },
  {
   "cell_type": "code",
   "execution_count": 9,
   "metadata": {
    "collapsed": false
   },
   "outputs": [
    {
     "name": "stdout",
     "output_type": "stream",
     "text": [
      "   z  weight_solMass  z**2+5\n",
      "0  1    8.414768e-58       6\n",
      "1  2    3.341449e-57       9\n",
      "2  3    5.816602e-57      14\n",
      "3  4    7.523543e-57      21\n",
      "4  5    9.027316e-57      30\n"
     ]
    }
   ],
   "source": [
    "from pandas import read_hdf\n",
    "atoms = read_hdf(\"store.h5\", \"foo\")\n",
    "print atoms.head(5)"
   ]
  }
 ],
 "metadata": {
  "kernelspec": {
   "display_name": "Python 2",
   "language": "python",
   "name": "python2"
  },
  "language_info": {
   "codemirror_mode": {
    "name": "ipython",
    "version": 2
   },
   "file_extension": ".py",
   "mimetype": "text/x-python",
   "name": "python",
   "nbconvert_exporter": "python",
   "pygments_lexer": "ipython2",
   "version": "2.7.10"
  }
 },
 "nbformat": 4,
 "nbformat_minor": 0
}

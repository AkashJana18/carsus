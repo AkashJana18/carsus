{
 "cells": [
  {
   "cell_type": "code",
   "execution_count": 1,
   "metadata": {
    "collapsed": false
   },
   "outputs": [
    {
     "name": "stdout",
     "output_type": "stream",
     "text": [
      "Initializing the database\n",
      "Ingesting basic atomic data\n"
     ]
    }
   ],
   "source": [
    "from carsus import init_db\n",
    "session = init_db(\"sqlite://\")\n",
    "session.commit()"
   ]
  },
  {
   "cell_type": "code",
   "execution_count": 2,
   "metadata": {
    "collapsed": false
   },
   "outputs": [
    {
     "name": "stdout",
     "output_type": "stream",
     "text": [
      "Downloading the data from http://physics.nist.gov/cgi-bin/Compositions/stand_alone.pl\n",
      "Ingesting atomic weights\n"
     ]
    }
   ],
   "source": [
    "from carsus.io.nist import NISTWeightsCompIngester\n",
    "ingester = NISTWeightsCompIngester()\n",
    "ingester.download()\n",
    "ingester.ingest(session)"
   ]
  },
  {
   "cell_type": "code",
   "execution_count": 3,
   "metadata": {
    "collapsed": false
   },
   "outputs": [
    {
     "name": "stdout",
     "output_type": "stream",
     "text": [
      "              symbol       name  group  period\n",
      "atomic_number                                 \n",
      "1                  H   Hydrogen      1       1\n",
      "2                 He     Helium     18       1\n",
      "3                 Li    Lithium      1       2\n",
      "4                 Be  Beryllium      2       2\n",
      "5                  B      Boron     13       2\n"
     ]
    }
   ],
   "source": [
    "from carsus.io.output import AtomsDataset, Dataset\n",
    "\n",
    "# Create a dataset and load with the atoms data from the database. \n",
    "\n",
    "atoms = AtomsDataset()\n",
    "atoms.load_sql(session)\n",
    "print atoms.data.head(5)\n"
   ]
  },
  {
   "cell_type": "code",
   "execution_count": 4,
   "metadata": {
    "collapsed": false,
    "scrolled": true
   },
   "outputs": [
    {
     "name": "stdout",
     "output_type": "stream",
     "text": [
      "              symbol       name  group  period  atomic_weight_value  \\\n",
      "atomic_number                                                         \n",
      "1                  H   Hydrogen      1       1             1.007975   \n",
      "2                 He     Helium     18       1             4.002602   \n",
      "3                 Li    Lithium      1       2             6.967500   \n",
      "4                 Be  Beryllium      2       2             9.012183   \n",
      "5                  B      Boron     13       2            10.813500   \n",
      "\n",
      "               atomic_weight_uncert atomic_weight_data_source  \n",
      "atomic_number                                                  \n",
      "1                      1.350000e-04                      nist  \n",
      "2                      2.000000e-06                      nist  \n",
      "3                      2.950000e-02                      nist  \n",
      "4                      5.000000e-07                      nist  \n",
      "5                      7.500000e-03                      nist  \n"
     ]
    }
   ],
   "source": [
    "# Include atomic weights into the dataset\n",
    "\n",
    "atoms2 = AtomsDataset()\n",
    "atoms2.load_sql(session, load_atomic_weights=True)\n",
    "print atoms2.data.head(5)"
   ]
  },
  {
   "cell_type": "code",
   "execution_count": 5,
   "metadata": {
    "collapsed": false
   },
   "outputs": [
    {
     "name": "stdout",
     "output_type": "stream",
     "text": [
      "   z  weight_solMass  z**2+5\n",
      "0  1    8.414768e-58       6\n",
      "1  2    3.341449e-57       9\n",
      "2  3    5.816602e-57      14\n",
      "3  4    7.523543e-57      21\n",
      "4  5    9.027316e-57      30\n"
     ]
    }
   ],
   "source": [
    "# Lets put out a table with z, weight in solar masses, z**2 + 5\n",
    "\n",
    "# First we need to write a query\n",
    "# Unit conversion is done on the DB side!\n",
    "from carsus.model import Atom, AtomicWeight\n",
    "from astropy import units as u\n",
    "q = session.query(Atom.atomic_number.label(\"z\"),\n",
    "                  AtomicWeight.quantity.to(u.solMass).value.label(\"weight_solMass\")).\\\n",
    "                  join(Atom.quantities.of_type(AtomicWeight))\n",
    "\n",
    "# Then we use pandas to read the query into a DataFrame\n",
    "from pandas import read_sql_query\n",
    "df = read_sql_query(q.selectable, session.bind)\n",
    "\n",
    "# Once we have the data we can compute things\n",
    "df[\"z**2+5\"] = df[\"z\"]**2 + 5\n",
    "\n",
    "print df.head(5)"
   ]
  },
  {
   "cell_type": "code",
   "execution_count": 9,
   "metadata": {
    "collapsed": false
   },
   "outputs": [
    {
     "name": "stdout",
     "output_type": "stream",
     "text": [
      "     z  weight_solMass\n",
      "0    1    8.414768e-58\n",
      "1    2    3.341449e-57\n",
      "2    3    5.816602e-57\n",
      "3    4    7.523543e-57\n",
      "4    5    9.027316e-57\n",
      "5    6    1.002668e-56\n",
      "6    7    1.169319e-56\n",
      "7    8    1.335660e-56\n",
      "8    9    1.586023e-56\n",
      "9   10    1.684640e-56\n",
      "10  11    1.919230e-56\n",
      "11  12    2.029070e-56\n",
      "12  13    2.252470e-56\n",
      "13  14    2.344589e-56\n",
      "14  15    2.585749e-56\n",
      "15  16    2.677056e-56\n",
      "16  17    2.959559e-56\n",
      "17  18    3.334935e-56\n",
      "18  19    3.264001e-56\n",
      "19  20    3.345788e-56\n",
      "20  21    3.753005e-56\n",
      "21  22    3.996029e-56\n",
      "22  23    4.252694e-56\n",
      "23  24    4.340734e-56\n",
      "24  25    4.586333e-56\n",
      "25  26    4.662047e-56\n",
      "26  27    4.919856e-56\n",
      "27  28    4.899837e-56\n",
      "28  29    5.304942e-56\n",
      "29  30    5.458047e-56\n",
      "..  ..             ...\n",
      "63  64    1.312753e-55\n",
      "64  65    1.326739e-55\n",
      "65  66    1.356581e-55\n",
      "66  67    1.376870e-55\n",
      "67  68    1.396310e-55\n",
      "68  69    1.410295e-55\n",
      "69  70    1.444688e-55\n",
      "70  71    1.460656e-55\n",
      "71  72    1.490069e-55\n",
      "72  73    1.510587e-55\n",
      "73  74    1.534731e-55\n",
      "74  75    1.554492e-55\n",
      "75  76    1.588076e-55\n",
      "76  77    1.604664e-55\n",
      "77  78    1.628599e-55\n",
      "78  79    1.644315e-55\n",
      "79  80    1.674580e-55\n",
      "80  81    1.706233e-55\n",
      "81  82    1.729745e-55\n",
      "82  83    1.744608e-55\n",
      "83  84    1.744625e-55\n",
      "84  85    1.753013e-55\n",
      "85  86    1.853445e-55\n",
      "86  87    1.861811e-55\n",
      "87  88    1.886903e-55\n",
      "88  89    1.895271e-55\n",
      "89  90    1.937095e-55\n",
      "90  91    1.928732e-55\n",
      "91  92    1.987111e-55\n",
      "92  93    1.978923e-55\n",
      "\n",
      "[93 rows x 2 columns]\n"
     ]
    }
   ],
   "source": [
    "q.session.query(Atom.atomic_number.label(\"z\"),\n",
    "                AtomicWeight.quantity.value.label(\"weight_u\")).\\\n",
    "                join(Atom.quantities.of_type(AtomicWeight)).\\\n",
    "                filter(AtomicWeight.quantity < 15*u.u)\n",
    "df2 = read_sql_query(q.selectable, session.bind)\n",
    "print df2"
   ]
  },
  {
   "cell_type": "code",
   "execution_count": null,
   "metadata": {
    "collapsed": true
   },
   "outputs": [],
   "source": [
    "# To store this DataFrame in HDF format we need to create a Dataset object\n",
    "\n",
    "foo_ds = Dataset(\"foo\", df)"
   ]
  },
  {
   "cell_type": "code",
   "execution_count": null,
   "metadata": {
    "collapsed": false
   },
   "outputs": [],
   "source": [
    "# create_hdf() is used to put several datasets into an HDF file. Datasets' names are used as the identifiers in the file.\n",
    "\n",
    "from carsus.io.output import create_hdf\n",
    "create_hdf(\"store.h5\", datasets=[atoms, foo_ds])\n"
   ]
  },
  {
   "cell_type": "code",
   "execution_count": null,
   "metadata": {
    "collapsed": false
   },
   "outputs": [],
   "source": [
    "from pandas import read_hdf\n",
    "atoms = read_hdf(\"store.h5\", \"foo\")\n",
    "print atoms.head(5)"
   ]
  }
 ],
 "metadata": {
  "kernelspec": {
   "display_name": "Python 2",
   "language": "python",
   "name": "python2"
  },
  "language_info": {
   "codemirror_mode": {
    "name": "ipython",
    "version": 2
   },
   "file_extension": ".py",
   "mimetype": "text/x-python",
   "name": "python",
   "nbconvert_exporter": "python",
   "pygments_lexer": "ipython2",
   "version": "2.7.10"
  }
 },
 "nbformat": 4,
 "nbformat_minor": 0
}

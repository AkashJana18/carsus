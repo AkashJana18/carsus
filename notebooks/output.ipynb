{
 "cells": [
  {
   "cell_type": "code",
   "execution_count": 1,
   "metadata": {
    "collapsed": false
   },
   "outputs": [
    {
     "name": "stdout",
     "output_type": "stream",
     "text": [
      "Initializing the database\n",
      "Ingesting basic atomic data\n"
     ]
    }
   ],
   "source": [
    "from carsus import init_db\n",
    "session = init_db(\"sqlite://\")\n",
    "session.commit()"
   ]
  },
  {
   "cell_type": "code",
   "execution_count": 2,
   "metadata": {
    "collapsed": false
   },
   "outputs": [
    {
     "name": "stdout",
     "output_type": "stream",
     "text": [
      "Downloading the data from http://physics.nist.gov/cgi-bin/Compositions/stand_alone.pl\n",
      "Ingesting atomic weights\n"
     ]
    }
   ],
   "source": [
    "from carsus.io.nist import NISTWeightsCompIngester\n",
    "ingester = NISTWeightsCompIngester()\n",
    "ingester.download()\n",
    "ingester.ingest(session)"
   ]
  },
  {
   "cell_type": "code",
   "execution_count": 5,
   "metadata": {
    "collapsed": false
   },
   "outputs": [
    {
     "name": "stdout",
     "output_type": "stream",
     "text": [
      "   z  weight_solMass  z**2+5\n",
      "0  1    8.414768e-58       6\n",
      "1  2    3.341449e-57       9\n",
      "2  3    5.816602e-57      14\n",
      "3  4    7.523543e-57      21\n",
      "4  5    9.027316e-57      30\n"
     ]
    }
   ],
   "source": [
    "# Lets put out a table with z, weight in solar masses, z**2 + 5\n",
    "\n",
    "# First we need to write a query\n",
    "# Unit conversion is done on the DB side!\n",
    "from carsus.model import Atom, AtomicWeight\n",
    "from astropy import units as u\n",
    "q = session.query(Atom.atomic_number.label(\"z\"),\n",
    "                  AtomicWeight.quantity.to(u.solMass).value.label(\"weight_solMass\")).\\\n",
    "                  join(Atom.quantities.of_type(AtomicWeight))\n",
    "\n",
    "# Then we use pandas to read the query into a DataFrame\n",
    "from pandas import read_sql_query\n",
    "df = read_sql_query(q.selectable, session.bind)\n",
    "\n",
    "# Once we have the data we can compute things\n",
    "df[\"z**2+5\"] = df[\"z\"]**2 + 5\n",
    "\n",
    "print df.head(5)"
   ]
  },
  {
   "cell_type": "code",
   "execution_count": 6,
   "metadata": {
    "collapsed": false
   },
   "outputs": [
    {
     "name": "stdout",
     "output_type": "stream",
     "text": [
      "   z   weight_u\n",
      "0  1   1.007975\n",
      "1  2   4.002602\n",
      "2  3   6.967500\n",
      "3  4   9.012183\n",
      "4  5  10.813500\n",
      "5  6  12.010600\n",
      "6  7  14.006855\n"
     ]
    }
   ],
   "source": [
    "# Another example\n",
    "q = q.session.query(Atom.atomic_number.label(\"z\"),\n",
    "                AtomicWeight.quantity.value.label(\"weight_u\")).\\\n",
    "                join(Atom.quantities.of_type(AtomicWeight)).\\\n",
    "                filter(AtomicWeight.quantity < 15*u.u)\n",
    "df2 = read_sql_query(q.selectable, session.bind)\n",
    "print df2"
   ]
  }
 ],
 "metadata": {
  "kernelspec": {
   "display_name": "Python 2",
   "language": "python",
   "name": "python2"
  },
  "language_info": {
   "codemirror_mode": {
    "name": "ipython",
    "version": 2
   },
   "file_extension": ".py",
   "mimetype": "text/x-python",
   "name": "python",
   "nbconvert_exporter": "python",
   "pygments_lexer": "ipython2",
   "version": "2.7.10"
  }
 },
 "nbformat": 4,
 "nbformat_minor": 0
}

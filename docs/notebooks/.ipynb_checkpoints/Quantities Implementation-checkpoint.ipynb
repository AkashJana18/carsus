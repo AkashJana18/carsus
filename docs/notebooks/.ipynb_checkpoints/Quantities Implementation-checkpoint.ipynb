{
 "cells": [
  {
   "cell_type": "markdown",
   "metadata": {},
   "source": [
    "This notebook shows how I have adapted [Mike Bayer's technique](http://techspot.zzzeek.org/2011/10/21/hybrids-and-value-agnostic-types/) in `carsus` to store quantities in a unit-agnostic fashion and to convert them relatively transparently. Most comments are borrowed from his blog post (the link above). "
   ]
  },
  {
   "cell_type": "markdown",
   "metadata": {},
   "source": [
    "\n",
    "\n",
    "```python\n",
    "class DBQuantity(Quantity):\n",
    "    def __new__(cls, value, unit=None, dtype=None, copy=True, order=None,\n",
    "                subok=False, ndmin=0):\n",
    "\n",
    "        if (isinstance(value, InstrumentedAttribute) or\n",
    "                isinstance(value, ClauseElement)):\n",
    "            if unit is None:\n",
    "                unit = dimensionless_unscaled\n",
    "            else:\n",
    "                unit = Unit(unit)\n",
    "\n",
    "            value = np.array(value, dtype=dtype, copy=copy, order=order,\n",
    "                             subok=False, ndmin=ndmin)\n",
    "            value = value.view(cls)\n",
    "            value._unit = unit\n",
    "            return value\n",
    "\n",
    "        return Quantity.__new__(Quantity, value, unit=unit, dtype=dtype, copy=copy, order=order,\n",
    "                                subok=subok, ndmin=ndmin)\n",
    "\n",
    "    def __gt__(self, other):\n",
    "        return self.value > other.to(self.unit).value\n",
    "\n",
    "    def __lt__(self, other):\n",
    "        return self.value < other.to(self.unit).value\n",
    "\n",
    "    def __eq__(self, other):\n",
    "        return self.value == other.to(self.unit).value\n",
    "\n",
    "    @hybrid_method\n",
    "    def to(self, other_unit):\n",
    "        return DBQuantity(self.value * self.unit.to(other_unit), other_unit)\n",
    " ```"
   ]
  },
  {
   "cell_type": "code",
   "execution_count": 1,
   "metadata": {
    "collapsed": false
   },
   "outputs": [
    {
     "name": "stdout",
     "output_type": "stream",
     "text": [
      "0.1000 km\n",
      "300.0000 m\n",
      "1100.0000 m\n",
      "0.6835 mi\n"
     ]
    }
   ],
   "source": [
    "from carsus.model.meta import Quantity\n",
    "from astropy import units as u\n",
    "\n",
    "# Convert 100 m to km\n",
    "print Quantity(100, u.m).convert_to(u.km)\n",
    "\n",
    "# Calculate 100 m + 200 m\n",
    "print Quantity(100, u.m) + Quantity(200, u.m)\n",
    "\n",
    "# Calculate 100 m + 1 km\n",
    "print Quantity(100, u.m) + Quantity(1, u.km)\n",
    "\n",
    "# Take the above and convert to miles\n",
    "u.imperial.enable()\n",
    "print (Quantity(100, u.m) + Quantity(1, u.km)).convert_to(u.Unit(\"mile\"))\n"
   ]
  },
  {
   "cell_type": "code",
   "execution_count": 2,
   "metadata": {
    "collapsed": false
   },
   "outputs": [
    {
     "name": "stdout",
     "output_type": "stream",
     "text": [
      "value * :value_1\n"
     ]
    }
   ],
   "source": [
    "# Suppose we pass a SQLAlchemy expression construct to Quantity instead of a numeric value\n",
    "\n",
    "from sqlalchemy.sql import column \n",
    "value_col = column('value')\n",
    "print Quantity(value_col, u.m).convert_to(u.Unit(\"mile\")).value\n"
   ]
  },
  {
   "cell_type": "markdown",
   "metadata": {},
   "source": [
    "We get a SQL expression straight out of the `Quantity` object, courtesy of the hybrid method. Note that we needed to access `.value` in order to display it. \n"
   ]
  },
  {
   "cell_type": "markdown",
   "metadata": {},
   "source": [
    "To apply the above `Quantity` object to a mapping we will again use a hybrid method:\n",
    "\n",
    "```python\n",
    "class AtomicQuantity(Base):\n",
    "    __tablename__ = \"atomic_quantity\"\n",
    "\n",
    "    id = Column(Integer, primary_key=True)\n",
    "    type = Column(String(20))\n",
    "    atomic_number = Column(Integer, \n",
    "        ForeignKey('atom.atomic_number'), nullable=False)\n",
    "    data_source_id = Column(Integer, \n",
    "        ForeignKey('data_source.id'), nullable=False)\n",
    "\n",
    "    _value = Column(Float, nullable=False)\n",
    "    \n",
    "    unit = u.Unit(\"\")\n",
    "\n",
    "    # Public interface for the value is via the Quantity object\n",
    "    @hybrid_property\n",
    "    def quantity(self):\n",
    "        return Quantity(self._value, self.unit)\n",
    "\n",
    "    @quantity.setter\n",
    "    def quantity(self, new):\n",
    "        self._value = new.convert_to(self.unit).value\n",
    "\n",
    "    std_dev = Column(Float)\n",
    "    data_source = relationship(\"DataSource\")\n",
    "\n",
    "    __table_args__ = (UniqueConstraint('type', \n",
    "                        'atomic_number', 'data_source_id'),)\n",
    "    __mapper_args__ = {\n",
    "        'polymorphic_on':type,\n",
    "        'polymorphic_identity':'atomic_quantity',\n",
    "        'with_polymorphic' : '*'\n",
    "    }\n",
    "\n",
    "    def __repr__(self):\n",
    "        return \"<Quantity: {0}, value: {1}>\".\\\n",
    "            format(self.type, self.value)\n",
    "\n",
    "\n",
    "class AtomicWeight(AtomicQuantity):\n",
    "    unit = u.u\n",
    "    __mapper_args__ = {\n",
    "        'polymorphic_identity':'atomic_weight'\n",
    "    }\n",
    "```\n",
    "The public accessor `.quantity` uses `Quantity` to get and set a private attribute `_value`, converting the value to `self.unit`. Each subclassed quantity should have the `unit` attribute and all stored values will be converted to this unit, e.g in case of `AtomicWeight` it's the unified atomic mass unit. \n"
   ]
  },
  {
   "cell_type": "code",
   "execution_count": 3,
   "metadata": {
    "collapsed": false
   },
   "outputs": [
    {
     "name": "stdout",
     "output_type": "stream",
     "text": [
      "Initializing the database\n",
      "Ingesting basic atomic data\n",
      "1.0450 u\n",
      "1045.0000 mu\n",
      "True\n",
      "0.9500 u\n"
     ]
    }
   ],
   "source": [
    "# Given an AtomicWeight we can operate on `quantity` at the python level,\n",
    "# using the `Quantity` objects as value objects\n",
    "\n",
    "from carsus import init_db\n",
    "from carsus.model import Atom, DataSource, AtomicWeight\n",
    "\n",
    "session = init_db(\"sqlite://\")\n",
    "H = session.query(Atom).filter(Atom.atomic_number == 1).one()\n",
    "foo_ds = DataSource(short_name=\"foo\")\n",
    "aw = AtomicWeight(atom=H, data_source=foo_ds, quantity=Quantity(1.045, u.u))\n",
    "\n",
    "print aw.quantity\n",
    "print aw.quantity.convert_to(u.mu)\n",
    "print aw.quantity > Quantity(1.043, u.u)\n",
    "print aw.quantity + Quantity(0.01, u.u) - Quantity(105, u.mu)\n"
   ]
  },
  {
   "cell_type": "code",
   "execution_count": 4,
   "metadata": {
    "collapsed": false
   },
   "outputs": [],
   "source": [
    "# Some test data\n",
    "\n",
    "bar_ds = DataSource(short_name=\"bar\")\n",
    "aw2 = AtomicWeight(atom=H, data_source=bar_ds, quantity=Quantity(1023, u.mu))\n",
    "session.add_all([aw, aw2])\n",
    "session.commit()\n",
    "session.bind.echo = True\n"
   ]
  },
  {
   "cell_type": "code",
   "execution_count": 12,
   "metadata": {
    "collapsed": false
   },
   "outputs": [
    {
     "name": "stdout",
     "output_type": "stream",
     "text": [
      "2016-05-05 14:31:55,293 INFO sqlalchemy.engine.base.Engine SELECT atomic_quantity.id AS atomic_quantity_id, atomic_quantity.type AS atomic_quantity_type, atomic_quantity.atomic_number AS atomic_quantity_atomic_number, atomic_quantity.data_source_id AS atomic_quantity_data_source_id, atomic_quantity._value AS atomic_quantity__value, atomic_quantity.std_dev AS atomic_quantity_std_dev \n",
      "FROM atomic_quantity \n",
      "WHERE atomic_quantity._value > ? AND atomic_quantity._value < ? AND atomic_quantity.type IN (?)\n",
      "2016-05-05 14:31:55,296 INFO sqlalchemy.engine.base.Engine (1.022, 1.024, 'atomic_weight')\n",
      "<Quantity: atomic_weight, value: 1.023>\n"
     ]
    }
   ],
   "source": [
    "# But we've applied @hybrid_property to .quantity and that means that\n",
    "# we can uset it as a SQL expression too. The opetations take advantage \n",
    "# of the fact that the __eq__(), __lt__(), and __gt__() methods of\n",
    "# Quantity are returning SQL expressions \n",
    "\n",
    "print session.query(AtomicWeight).\\\n",
    "    filter(AtomicWeight.quantity > Quantity(1.022, u.u)).\\\n",
    "    filter(AtomicWeight.quantity < Quantity(1.024, u.u)).one()\n",
    "    \n",
    "    "
   ]
  },
  {
   "cell_type": "code",
   "execution_count": 14,
   "metadata": {
    "collapsed": false
   },
   "outputs": [
    {
     "name": "stdout",
     "output_type": "stream",
     "text": [
      "2016-05-05 14:38:14,414 INFO sqlalchemy.engine.base.Engine SELECT atomic_quantity._value * ? AS anon_1 \n",
      "FROM atomic_quantity \n",
      "WHERE atomic_quantity.type IN (?)\n",
      "2016-05-05 14:38:14,416 INFO sqlalchemy.engine.base.Engine (8.348191141722386e-58, 'atomic_weight')\n",
      "[(8.723859743099894e-58,), (8.540199537982002e-58,)]\n"
     ]
    }
   ],
   "source": [
    "# The rough edge of this approach is that in order to interpret the Quantity \n",
    "# object directly we need to use the `.value` accessor\n",
    "\n",
    "# Print all atomic_weight in Solar masses \n",
    "print session.query(AtomicWeight.quantity.convert_to(u.solMass).value).all()"
   ]
  }
 ],
 "metadata": {
  "kernelspec": {
   "display_name": "Python 2",
   "language": "python",
   "name": "python2"
  },
  "language_info": {
   "codemirror_mode": {
    "name": "ipython",
    "version": 2
   },
   "file_extension": ".py",
   "mimetype": "text/x-python",
   "name": "python",
   "nbconvert_exporter": "python",
   "pygments_lexer": "ipython2",
   "version": "2.7.10"
  }
 },
 "nbformat": 4,
 "nbformat_minor": 0
}

{
 "cells": [
  {
   "cell_type": "code",
   "execution_count": 1,
   "metadata": {
    "collapsed": false
   },
   "outputs": [],
   "source": [
    "from astropy import units as u\n",
    "from decimal import Decimal\n",
    "from sqlalchemy import literal\n",
    "\n",
    "# A Quantity object represents a value and a particular unit.\n",
    "# Math and comparisons can be performed against two Quantity objects where\n",
    "# the scale for each is used to \"normalize\" operations. \n",
    "# This provides a facade for astropy's unit conversion.\n",
    "\n",
    "class Quantity(object):\n",
    "\n",
    "    def __init__(self, value, unit):\n",
    "        self.value = value\n",
    "        self.unit = unit\n",
    "\n",
    "    def __add__(self, other):\n",
    "        return Quantity(\n",
    "                self.value +\n",
    "                other.to(self.unit).value,\n",
    "                self.unit\n",
    "            )\n",
    "\n",
    "    def __sub__(self, other):\n",
    "        return Quantity(\n",
    "                self.value -\n",
    "                other.to(self.unit).value,\n",
    "                self.unit\n",
    "            )\n",
    "\n",
    "    def __lt__(self, other):\n",
    "        return self.value < other.to(self.unit).value\n",
    "\n",
    "    def __gt__(self, other):\n",
    "        return self.value > other.to(self.unit).value\n",
    "\n",
    "    def __eq__(self, other):\n",
    "        return self.value == other.to(self.unit).value\n",
    "    \n",
    "    def __clause_element__(self):\n",
    "        # helper method for SQLAlchemy to interpret\n",
    "        # the Quantity object as a SQL element\n",
    "        if isinstance(self.value, (float, int, Decimal)):\n",
    "            return literal(self.value)\n",
    "        else:\n",
    "            return self.value\n",
    "\n",
    "    def to(self, other_unit):\n",
    "        return Quantity(self.value * u.Unit(self.unit).to(u.Unit(other_unit)),\n",
    "                 other_unit)\n",
    "\n",
    "    def __str__(self):\n",
    "        return \"%2.4f %s\" % (self.value, self.unit)"
   ]
  },
  {
   "cell_type": "code",
   "execution_count": 2,
   "metadata": {
    "collapsed": false
   },
   "outputs": [
    {
     "name": "stdout",
     "output_type": "stream",
     "text": [
      "0.1000 km\n",
      "300.0000 m\n",
      "1500.0000 m\n",
      "0.6835 mi\n"
     ]
    }
   ],
   "source": [
    "# Using Quantity objects we can convert units and make calculations\n",
    "\n",
    "print Quantity(100, \"m\").to(\"km\")\n",
    "\n",
    "print Quantity(100, \"m\") + Quantity(200, \"m\")\n",
    "\n",
    "print Quantity(500, \"m\") + Quantity(1, \"km\")\n",
    "\n",
    "from astropy.units import imperial\n",
    "imperial.enable()\n",
    "\n",
    "print (Quantity(100, \"m\") + Quantity(1, \"km\")).to(\"mi\")"
   ]
  },
  {
   "cell_type": "code",
   "execution_count": 3,
   "metadata": {
    "collapsed": true
   },
   "outputs": [],
   "source": [
    "# A Quantity object will be used as the public interface for the \"weight\". \"mg\" is hardcoded as the base unit.\n",
    "\n",
    "from sqlalchemy.ext.declarative import declarative_base\n",
    "from sqlalchemy import Column, Integer, Numeric\n",
    "from sqlalchemy.ext.hybrid import hybrid_property\n",
    "Base = declarative_base()\n",
    "\n",
    "class Atom(Base):\n",
    "    __tablename__ = 'atom'\n",
    "    id = Column(Integer, primary_key=True)\n",
    "\n",
    "    _weight = Column('weight', Numeric)\n",
    "\n",
    "    @hybrid_property\n",
    "    def weight(self):\n",
    "        return Quantity(self._weight, \"mg\")\n",
    "\n",
    "    @weight.setter\n",
    "    def weight(self, value):\n",
    "        self._weight = value.to(\"mg\").value\n",
    "\n",
    "    def __repr__(self):\n",
    "        return \"Atom, Weight(%s)\" % self.weight"
   ]
  },
  {
   "cell_type": "code",
   "execution_count": 4,
   "metadata": {
    "collapsed": false
   },
   "outputs": [
    {
     "name": "stdout",
     "output_type": "stream",
     "text": [
      "1.0000 mg\n",
      "1000.0000 ug\n",
      "False\n",
      "0.8000 mg\n"
     ]
    }
   ],
   "source": [
    "# Given an atom, we can operate on \"weight\"\n",
    "# at the Python level, using Quantities objects:\n",
    "\n",
    "a1 = Atom(weight=Quantity(1,\"mg\"))\n",
    "\n",
    "print a1.weight\n",
    "print a1.weight.to(\"ug\")\n",
    "print a1.weight > Quantity(2, \"mg\")\n",
    "print a1.weight + Quantity(100, \"ug\") - Quantity(0.3, \"mg\")"
   ]
  },
  {
   "cell_type": "code",
   "execution_count": 5,
   "metadata": {
    "collapsed": false
   },
   "outputs": [
    {
     "name": "stdout",
     "output_type": "stream",
     "text": [
      "2016-05-02 12:46:35,674 INFO sqlalchemy.engine.base.Engine SELECT CAST('test plain returns' AS VARCHAR(60)) AS anon_1\n",
      "2016-05-02 12:46:35,676 INFO sqlalchemy.engine.base.Engine ()\n",
      "2016-05-02 12:46:35,678 INFO sqlalchemy.engine.base.Engine SELECT CAST('test unicode returns' AS VARCHAR(60)) AS anon_1\n",
      "2016-05-02 12:46:35,679 INFO sqlalchemy.engine.base.Engine ()\n",
      "2016-05-02 12:46:35,681 INFO sqlalchemy.engine.base.Engine PRAGMA table_info(\"atom\")\n",
      "2016-05-02 12:46:35,682 INFO sqlalchemy.engine.base.Engine ()\n",
      "2016-05-02 12:46:35,684 INFO sqlalchemy.engine.base.Engine \n",
      "CREATE TABLE atom (\n",
      "\tid INTEGER NOT NULL, \n",
      "\tweight NUMERIC, \n",
      "\tPRIMARY KEY (id)\n",
      ")\n",
      "\n",
      "\n",
      "2016-05-02 12:46:35,685 INFO sqlalchemy.engine.base.Engine ()\n",
      "2016-05-02 12:46:35,687 INFO sqlalchemy.engine.base.Engine COMMIT\n",
      "2016-05-02 12:46:35,690 INFO sqlalchemy.engine.base.Engine BEGIN (implicit)\n",
      "2016-05-02 12:46:35,693 INFO sqlalchemy.engine.base.Engine INSERT INTO atom (weight) VALUES (?)\n",
      "2016-05-02 12:46:35,694 INFO sqlalchemy.engine.base.Engine (1.0,)\n",
      "2016-05-02 12:46:35,695 INFO sqlalchemy.engine.base.Engine INSERT INTO atom (weight) VALUES (?)\n",
      "2016-05-02 12:46:35,696 INFO sqlalchemy.engine.base.Engine (5.000000000000001e-05,)\n",
      "2016-05-02 12:46:35,698 INFO sqlalchemy.engine.base.Engine INSERT INTO atom (weight) VALUES (?)\n",
      "2016-05-02 12:46:35,699 INFO sqlalchemy.engine.base.Engine (0.1,)\n",
      "2016-05-02 12:46:35,700 INFO sqlalchemy.engine.base.Engine INSERT INTO atom (weight) VALUES (?)\n",
      "2016-05-02 12:46:35,701 INFO sqlalchemy.engine.base.Engine (0.5,)\n",
      "2016-05-02 12:46:35,702 INFO sqlalchemy.engine.base.Engine COMMIT\n"
     ]
    }
   ],
   "source": [
    "from sqlalchemy import create_engine\n",
    "from sqlalchemy.orm import Session\n",
    "from sqlalchemy import func\n",
    "engine = create_engine('sqlite://', echo=True)\n",
    "Base.metadata.create_all(engine)\n",
    "\n",
    "session = Session(engine)\n",
    "\n",
    "# persist four atoms.  values here\n",
    "# are converted to \"mg\" in Python.\n",
    "session.add_all([\n",
    "    a1,\n",
    "    Atom(weight=Quantity(50,\"ng\")),\n",
    "    Atom(weight=Quantity(100,\"ug\")),\n",
    "    Atom(weight=Quantity(0.5,\"mg\"))\n",
    "    ])\n",
    "session.commit()"
   ]
  },
  {
   "cell_type": "code",
   "execution_count": 6,
   "metadata": {
    "collapsed": false
   },
   "outputs": [
    {
     "name": "stdout",
     "output_type": "stream",
     "text": [
      "2016-05-02 12:46:35,844 INFO sqlalchemy.engine.base.Engine BEGIN (implicit)\n",
      "2016-05-02 12:46:35,846 INFO sqlalchemy.engine.base.Engine SELECT atom.weight AS atom_weight, atom.id AS atom_id \n",
      "FROM atom \n",
      "WHERE atom.weight = ?\n",
      "2016-05-02 12:46:35,847 INFO sqlalchemy.engine.base.Engine (0.1,)\n",
      "Atom, Weight(0.1000 mg)\n"
     ]
    },
    {
     "name": "stderr",
     "output_type": "stream",
     "text": [
      "/home/misha/.virtualenvs/carsus/local/lib/python2.7/site-packages/sqlalchemy/sql/sqltypes.py:562: SAWarning: Dialect sqlite+pysqlite does *not* support Decimal objects natively, and SQLAlchemy must convert from floating point - rounding errors and other issues may occur. Please consider storing Decimal numbers as strings or integers on this platform for lossless storage.\n",
      "  'storage.' % (dialect.name, dialect.driver))\n"
     ]
    }
   ],
   "source": [
    "# we can query for the atom that has 100 in \"ug\":\n",
    "print session.query(Atom).\\\n",
    "    filter(Atom.weight == Quantity(100, \"ug\")).one()"
   ]
  },
  {
   "cell_type": "code",
   "execution_count": 7,
   "metadata": {
    "collapsed": false
   },
   "outputs": [
    {
     "name": "stdout",
     "output_type": "stream",
     "text": [
      "2016-05-02 12:46:35,963 INFO sqlalchemy.engine.base.Engine SELECT atom.weight * ? AS anon_1 \n",
      "FROM atom\n",
      "2016-05-02 12:46:35,964 INFO sqlalchemy.engine.base.Engine (999.9999999999999,)\n",
      "[(Decimal('1000.0000000000'),), (Decimal('0.0500000000'),), (Decimal('100.0000000000'),), (Decimal('500.0000000000'),)]\n"
     ]
    }
   ],
   "source": [
    "# query all weights, converting to \"ug\" on the DB side\n",
    "# (calling .value here because query() doesn't yet call __clause_element__())\n",
    "print session.query(Atom.weight.to(\"ug\").value).all()"
   ]
  },
  {
   "cell_type": "code",
   "execution_count": 8,
   "metadata": {
    "collapsed": false
   },
   "outputs": [
    {
     "name": "stdout",
     "output_type": "stream",
     "text": [
      "2016-05-02 12:46:36,137 INFO sqlalchemy.engine.base.Engine SELECT avg(atom.weight * ?) AS avg_1 \n",
      "FROM atom\n",
      "2016-05-02 12:46:36,139 INFO sqlalchemy.engine.base.Engine (999999.9999999998,)\n",
      "400012.5\n"
     ]
    }
   ],
   "source": [
    "# average balance in \"ug\"\n",
    "print session.query(func.avg(Atom.weight.to(\"ng\"))).scalar()"
   ]
  },
  {
   "cell_type": "code",
   "execution_count": null,
   "metadata": {
    "collapsed": true
   },
   "outputs": [],
   "source": [
    ""
   ]
  }
 ],
 "metadata": {
  "kernelspec": {
   "display_name": "Python 2",
   "language": "python",
   "name": "python2"
  },
  "language_info": {
   "codemirror_mode": {
    "name": "ipython",
    "version": 2.0
   },
   "file_extension": ".py",
   "mimetype": "text/x-python",
   "name": "python",
   "nbconvert_exporter": "python",
   "pygments_lexer": "ipython2",
   "version": "2.7.10"
  }
 },
 "nbformat": 4,
 "nbformat_minor": 0
}
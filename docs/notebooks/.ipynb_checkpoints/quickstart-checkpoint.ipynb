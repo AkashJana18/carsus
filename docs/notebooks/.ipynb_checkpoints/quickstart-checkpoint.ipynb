{
 "cells": [
  {
   "cell_type": "markdown",
   "metadata": {},
   "source": [
    "# Quickstart #\n",
    "This page provides an introduction how to use Carsus."
   ]
  },
  {
   "cell_type": "code",
   "execution_count": null,
   "metadata": {
    "collapsed": true
   },
   "outputs": [],
   "source": []
  },
  {
   "cell_type": "code",
   "execution_count": 1,
   "metadata": {
    "collapsed": false
   },
   "outputs": [
    {
     "name": "stdout",
     "output_type": "stream",
     "text": [
      "Initializing the database\n",
      "Ingesting basic atomic data\n"
     ]
    }
   ],
   "source": [
    "from carsus import init_db\n",
    "session = init_db(\"sqlite://\")\n",
    "session.commit()"
   ]
  },
  {
   "cell_type": "code",
   "execution_count": 2,
   "metadata": {
    "collapsed": false
   },
   "outputs": [
    {
     "name": "stdout",
     "output_type": "stream",
     "text": [
      "<Atom H, Z=1>\n",
      "<Atom He, Z=2>\n",
      "<Atom Li, Z=3>\n",
      "<Atom Be, Z=4>\n",
      "<Atom B, Z=5>\n"
     ]
    }
   ],
   "source": [
    "from carsus.model import Atom\n",
    "q = session.query(Atom).all()\n",
    "for atom in q[:5]:\n",
    "    print atom"
   ]
  },
  {
   "cell_type": "code",
   "execution_count": 3,
   "metadata": {
    "collapsed": false
   },
   "outputs": [
    {
     "data": {
      "text/plain": [
       "118"
      ]
     },
     "execution_count": 3,
     "metadata": {},
     "output_type": "execute_result"
    }
   ],
   "source": [
    "session.query(Atom).count()"
   ]
  },
  {
   "cell_type": "code",
   "execution_count": 4,
   "metadata": {
    "collapsed": false
   },
   "outputs": [
    {
     "name": "stdout",
     "output_type": "stream",
     "text": [
      "Downloading the data from http://physics.nist.gov/cgi-bin/Compositions/stand_alone.pl\n",
      "Ingesting atomic weights\n"
     ]
    }
   ],
   "source": [
    "from carsus.io.nist import NISTWeightsCompIngester\n",
    "ingester = NISTWeightsCompIngester()\n",
    "ingester.download()\n",
    "ingester.ingest(session)\n",
    "session.commit()"
   ]
  },
  {
   "cell_type": "code",
   "execution_count": 5,
   "metadata": {
    "collapsed": false
   },
   "outputs": [
    {
     "data": {
      "text/plain": [
       "[(<Atom H, Z=1>, 1.007975),\n",
       " (<Atom He, Z=2>, 4.002602),\n",
       " (<Atom Li, Z=3>, 6.967499999999999),\n",
       " (<Atom Be, Z=4>, 9.0121831),\n",
       " (<Atom B, Z=5>, 10.8135)]"
      ]
     },
     "execution_count": 5,
     "metadata": {},
     "output_type": "execute_result"
    }
   ],
   "source": [
    "from carsus.model import AtomicWeight, DataSource\n",
    "session.query(Atom, AtomicWeight.value).\\\n",
    "    join(Atom.quantities.of_type(AtomicWeight)).\\\n",
    "    filter(Atom.atomic_number <= 5).all()"
   ]
  },
  {
   "cell_type": "code",
   "execution_count": 6,
   "metadata": {
    "collapsed": false
   },
   "outputs": [
    {
     "name": "stdout",
     "output_type": "stream",
     "text": [
      "<Data Source: nist>\n"
     ]
    }
   ],
   "source": [
    "nist = session.query(DataSource).filter(DataSource.short_name==\"nist\").one()\n",
    "print nist"
   ]
  },
  {
   "cell_type": "code",
   "execution_count": 7,
   "metadata": {
    "collapsed": false
   },
   "outputs": [
    {
     "data": {
      "text/plain": [
       "<Data Source: ku>"
      ]
     },
     "execution_count": 7,
     "metadata": {},
     "output_type": "execute_result"
    }
   ],
   "source": [
    "ku = DataSource.as_unique(session, short_name=\"ku\")\n",
    "session.query(DataSource).filter(DataSource.short_name==\"ku\").one()"
   ]
  },
  {
   "cell_type": "code",
   "execution_count": 8,
   "metadata": {
    "collapsed": true
   },
   "outputs": [],
   "source": [
    "nist2 = DataSource.as_unique(session, short_name=\"nist\")\n",
    "assert nist2 is nist"
   ]
  },
  {
   "cell_type": "code",
   "execution_count": 9,
   "metadata": {
    "collapsed": true
   },
   "outputs": [],
   "source": [
    "from astropy import units as u\n",
    "atomic_weights = [(1, 1.00769), (2, 4.0033), (3, 6.987), (4, 9.012), (5, 10.733), (14, 28.095)]\n",
    "for atomic_number, value in atomic_weights:\n",
    "    atom = session.query(Atom).filter(Atom.atomic_number == atomic_number).one()\n",
    "    atom.merge_quantity(session, AtomicWeight(data_source=ku, unit=u.u, value=value))\n",
    "session.commit()"
   ]
  },
  {
   "cell_type": "code",
   "execution_count": 10,
   "metadata": {
    "collapsed": false
   },
   "outputs": [
    {
     "name": "stdout",
     "output_type": "stream",
     "text": [
      "<Atom H, Z=1> 1.007975 nist\n",
      "<Atom H, Z=1> 1.00769 ku\n",
      "<Atom He, Z=2> 4.002602 nist\n",
      "<Atom He, Z=2> 4.0033 ku\n",
      "<Atom Li, Z=3> 6.9675 nist\n",
      "<Atom Li, Z=3> 6.987 ku\n",
      "<Atom Be, Z=4> 9.0121831 nist\n",
      "<Atom Be, Z=4> 9.012 ku\n",
      "<Atom B, Z=5> 10.8135 nist\n",
      "<Atom B, Z=5> 10.733 ku\n",
      "<Atom C, Z=6> 12.0106 nist\n",
      "<Atom N, Z=7> 14.006855 nist\n",
      "<Atom O, Z=8> 15.9994 nist\n",
      "<Atom F, Z=9> 18.998403163 nist\n",
      "<Atom Ne, Z=10> 20.1797 nist\n",
      "<Atom Na, Z=11> 22.98976928 nist\n",
      "<Atom Mg, Z=12> 24.3055 nist\n",
      "<Atom Al, Z=13> 26.9815385 nist\n",
      "<Atom Si, Z=14> 28.085 nist\n",
      "<Atom Si, Z=14> 28.095 ku\n"
     ]
    }
   ],
   "source": [
    "q = session.query(Atom, AtomicWeight.value, DataSource.short_name).\\\n",
    "    join(Atom.quantities.of_type(AtomicWeight)).\\\n",
    "    join(AtomicWeight.data_source)\n",
    "\n",
    "for atom, value, short_name in q.all()[:20]:\n",
    "    print atom, value, short_name"
   ]
  },
  {
   "cell_type": "code",
   "execution_count": 11,
   "metadata": {
    "collapsed": false
   },
   "outputs": [
    {
     "name": "stdout",
     "output_type": "stream",
     "text": [
      "<Atom H, Z=1> 1.00769 ku 1\n",
      "<Atom He, Z=2> 4.0033 ku 1\n",
      "<Atom Li, Z=3> 6.987 ku 1\n",
      "<Atom Be, Z=4> 9.012 ku 1\n",
      "<Atom B, Z=5> 10.733 ku 1\n",
      "<Atom C, Z=6> 12.0106 nist 2\n",
      "<Atom N, Z=7> 14.006855 nist 2\n",
      "<Atom O, Z=8> 15.9994 nist 2\n",
      "<Atom F, Z=9> 18.998403163 nist 2\n",
      "<Atom Ne, Z=10> 20.1797 nist 2\n",
      "<Atom Na, Z=11> 22.98976928 nist 2\n",
      "<Atom Mg, Z=12> 24.3055 nist 2\n",
      "<Atom Al, Z=13> 26.9815385 nist 2\n",
      "<Atom Si, Z=14> 28.095 ku 1\n",
      "<Atom P, Z=15> 30.973761998 nist 2\n",
      "<Atom S, Z=16> 32.0675 nist 2\n",
      "<Atom Cl, Z=17> 35.4515 nist 2\n",
      "<Atom Ar, Z=18> 39.948 nist 2\n",
      "<Atom K, Z=19> 39.0983 nist 2\n",
      "<Atom Ca, Z=20> 40.078 nist 2\n"
     ]
    }
   ],
   "source": [
    "from sqlalchemy import case, func\n",
    "\n",
    "stmt = case([\n",
    "        (DataSource.short_name == \"ku\", 1),\n",
    "        (DataSource.short_name == \"nist\", 2)     \n",
    "    ])\n",
    "\n",
    "q = session.query(Atom, AtomicWeight.value, DataSource.short_name, func.min(stmt)).\\\n",
    "    join(Atom.quantities.of_type(AtomicWeight)).\\\n",
    "    join(AtomicWeight.data_source).\\\n",
    "    group_by(Atom.atomic_number)\n",
    "\n",
    "for atom, value, short_name, t in q.all()[:20]:\n",
    "    print atom, value, short_name, t"
   ]
  },
  {
   "cell_type": "code",
   "execution_count": 12,
   "metadata": {
    "collapsed": false
   },
   "outputs": [
    {
     "name": "stdout",
     "output_type": "stream",
     "text": [
      "1.67378149613e-15 ng\n",
      "1.6733082426e-15 ng\n",
      "6.6464755217e-15 ng\n",
      "6.64763457771e-15 ng\n",
      "1.15698033922e-14 ng\n"
     ]
    }
   ],
   "source": [
    "q = session.query(AtomicWeight)\n",
    "for aw in q.all()[:5]:\n",
    "    aw.to(u.ng)\n",
    "    print aw.value, aw.unit"
   ]
  },
  {
   "cell_type": "code",
   "execution_count": 16,
   "metadata": {
    "collapsed": false
   },
   "outputs": [
    {
     "name": "stdout",
     "output_type": "stream",
     "text": [
      "1.007975 u\n",
      "1.00769 u\n",
      "4.002602 u\n",
      "4.0033 u\n",
      "6.9675 u\n"
     ]
    }
   ],
   "source": [
    "for aw in q.all()[:5]:\n",
    "    aw.unit = u.u\n",
    "    print aw.value, aw.unit"
   ]
  },
  {
   "cell_type": "code",
   "execution_count": null,
   "metadata": {
    "collapsed": true
   },
   "outputs": [],
   "source": []
  }
 ],
 "metadata": {
  "kernelspec": {
   "display_name": "Python 2",
   "language": "python",
   "name": "python2"
  },
  "language_info": {
   "codemirror_mode": {
    "name": "ipython",
    "version": 2
   },
   "file_extension": ".py",
   "mimetype": "text/x-python",
   "name": "python",
   "nbconvert_exporter": "python",
   "pygments_lexer": "ipython2",
   "version": "2.7.10"
  }
 },
 "nbformat": 4,
 "nbformat_minor": 0
}

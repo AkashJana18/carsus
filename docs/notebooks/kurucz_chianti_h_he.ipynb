{
 "cells": [
  {
   "cell_type": "markdown",
   "metadata": {},
   "source": [
    "# Creating the tardis_example database\n",
    "\n",
    "This notebook provides a quick introduction in how to use Carsus.\n",
    "\n",
    "## Prerequisites:\n",
    "- Install carsus (preferably as a git repository)\n",
    "- Install ChiantiPy (from source or pip, both versions work)\n",
    "- Install chiantipy and set the environmentvariable `XUVTOP = /path/to/chianti/root`\n",
    "- We highly recommend installing the `carsus-db` repository as it includes the files of several sources that cannot easily be downloaded."
   ]
  },
  {
   "cell_type": "markdown",
   "metadata": {},
   "source": [
    "## Imports and initialization:\n",
    "\n",
    "Import all the essential ingesters and initialize the session."
   ]
  },
  {
   "cell_type": "code",
   "execution_count": 1,
   "metadata": {
    "collapsed": false
   },
   "outputs": [
    {
     "name": "stdout",
     "output_type": "stream",
     "text": [
      " found PyQt4 widgets\n",
      " using PyQt4 widgets\n",
      "Initializing the database at sqlite:////tmp/carsus_example.db\n"
     ]
    }
   ],
   "source": [
    "import os\n",
    "from carsus import init_db\n",
    "from carsus.io.nist import (\n",
    "        NISTWeightsCompIngester,\n",
    "        NISTIonizationEnergiesIngester\n",
    "        )\n",
    "from carsus.io.kurucz import GFALLIngester\n",
    "from carsus.io.chianti_ import ChiantiIngester\n",
    "from carsus.io.zeta import KnoxLongZetaIngester\n",
    "from carsus.io.output import AtomData\n",
    "\n",
    "\n",
    "DB_ROOT = '/media/data/projects/tardis/carsus-db/'\n",
    "session = init_db('sqlite:////tmp/carsus_example.db')\n",
    "#session = init_db('sqlite:///' + os.path.join(DB_ROOT, 'carsus_example.db'))\n",
    "storename = os.path.join(DB_ROOT, 'kurucz_chianti_H_He.h5')\n",
    "storename = '/tmp/carsus_example.h5'\n",
    "zeta_fname = os.path.join(DB_ROOT, 'zeta/knox_long_recombination_zeta.dat')\n",
    "gfall_fname = os.path.join(DB_ROOT, 'gfall/gfall_old.dat')"
   ]
  },
  {
   "cell_type": "markdown",
   "metadata": {},
   "source": [
    "## Ingesting data\n",
    "\n",
    "\n",
    "### Weights"
   ]
  },
  {
   "cell_type": "code",
   "execution_count": null,
   "metadata": {
    "collapsed": false
   },
   "outputs": [],
   "source": [
    "weightscomp_ingester = NISTWeightsCompIngester(session)\n",
    "weightscomp_ingester.ingest()\n",
    "session.commit()"
   ]
  },
  {
   "cell_type": "markdown",
   "metadata": {},
   "source": [
    "Now we have all the weights ingested.\n",
    "\n",
    "### Ionization Energies"
   ]
  },
  {
   "cell_type": "code",
   "execution_count": null,
   "metadata": {
    "collapsed": false
   },
   "outputs": [],
   "source": [
    "ioniz_energies_ingester = NISTIonizationEnergiesIngester(\n",
    "            session,\n",
    "            spectra=\"h-zn\"\n",
    "            )\n",
    "ioniz_energies_ingester.ingest(\n",
    "            ionization_energies=True,\n",
    "            ground_levels=True\n",
    "            )\n",
    "session.commit()\n"
   ]
  },
  {
   "cell_type": "markdown",
   "metadata": {},
   "source": [
    "### Ingesting kurucz levels and lines"
   ]
  },
  {
   "cell_type": "code",
   "execution_count": null,
   "metadata": {
    "collapsed": false
   },
   "outputs": [],
   "source": [
    "gfall_ingester = GFALLIngester(session, gfall_fname, ions='H-Zn')\n",
    "gfall_ingester.ingest(levels=True, lines=True)\n",
    "session.commit()"
   ]
  },
  {
   "cell_type": "markdown",
   "metadata": {},
   "source": [
    "### Ingesting chianti levels and lines for H and He"
   ]
  },
  {
   "cell_type": "code",
   "execution_count": null,
   "metadata": {
    "collapsed": false
   },
   "outputs": [],
   "source": [
    "chianti_ingester = ChiantiIngester(session, ions='h-he')\n",
    "chianti_ingester.ingest(levels=True, lines=True, collisions=False)\n",
    "session.commit()"
   ]
  },
  {
   "cell_type": "markdown",
   "metadata": {},
   "source": [
    "### Ingesting Zeta data"
   ]
  },
  {
   "cell_type": "code",
   "execution_count": null,
   "metadata": {
    "collapsed": false
   },
   "outputs": [],
   "source": [
    "zeta_ingester = KnoxLongZetaIngester(session, zeta_fname)\n",
    "zeta_ingester.ingest()\n",
    "session.commit()"
   ]
  },
  {
   "cell_type": "markdown",
   "metadata": {},
   "source": [
    "## Create a tardis readable HDFStore\n",
    "\n",
    "As we did in the Quickstart, we first create an `AtomData` instance. For this database we choose kurucz as the primary `DataSource` with only hydrogen and helium coming from chianti. We also specify `chianti_short_name` which contains the version of the chianti database that was ingested."
   ]
  },
  {
   "cell_type": "code",
   "execution_count": 2,
   "metadata": {
    "collapsed": false
   },
   "outputs": [],
   "source": [
    "ad = AtomData(\n",
    "        session,\n",
    "        selected_atoms='H-Zn',\n",
    "        chianti_ions=\"H; He\",\n",
    "        chianti_short_name='chianti_v8.0.6'\n",
    "        )\n",
    "\n"
   ]
  },
  {
   "cell_type": "markdown",
   "metadata": {},
   "source": [
    "### Writing the output\n",
    "\n",
    "The database we want to create contains all data, except for the collision data."
   ]
  },
  {
   "cell_type": "code",
   "execution_count": 3,
   "metadata": {
    "collapsed": false
   },
   "outputs": [
    {
     "name": "stderr",
     "output_type": "stream",
     "text": [
      "/media/data/projects/tardis/carsus/carsus/io/output/tardis_.py:562: RuntimeWarning: divide by zero encountered in log10\n",
      "  lines['loggf'] = np.log10(lines['gf'])\n"
     ]
    },
    {
     "name": "stdout",
     "output_type": "stream",
     "text": [
      "Signing AtomData with MD5 and UUID1\n"
     ]
    }
   ],
   "source": [
    "ad.to_hdf(\n",
    "        storename,\n",
    "        store_atom_masses=True,\n",
    "        store_ionization_energies=True,\n",
    "        store_levels=True,\n",
    "        store_lines=True,\n",
    "        store_macro_atom=True,\n",
    "        store_collisions=False,\n",
    "        store_zeta_data=True\n",
    "        )"
   ]
  },
  {
   "cell_type": "markdown",
   "metadata": {},
   "source": [
    "Comparison to old kurucz: 7 lines missing"
   ]
  },
  {
   "cell_type": "markdown",
   "metadata": {},
   "source": [
    "You are done! Now you can use the created HDFStore to run TARDIS simulations."
   ]
  }
 ],
 "metadata": {
  "kernelspec": {
   "display_name": "Python 2",
   "language": "python",
   "name": "python2"
  },
  "language_info": {
   "codemirror_mode": {
    "name": "ipython",
    "version": 2
   },
   "file_extension": ".py",
   "mimetype": "text/x-python",
   "name": "python",
   "nbconvert_exporter": "python",
   "pygments_lexer": "ipython2",
   "version": "2.7.13"
  }
 },
 "nbformat": 4,
 "nbformat_minor": 0
}

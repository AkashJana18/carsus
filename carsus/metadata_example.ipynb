{
 "cells": [
  {
   "cell_type": "code",
   "execution_count": 2,
   "id": "367090df",
   "metadata": {},
   "outputs": [],
   "source": [
    "import pandas as pd\n",
    "from carsus.io import save_to_hdf, read_hdf_with_metadata"
   ]
  },
  {
   "cell_type": "code",
   "execution_count": 3,
   "id": "6a66e4ee",
   "metadata": {},
   "outputs": [
    {
     "data": {
      "text/html": [
       "<div>\n",
       "<style scoped>\n",
       "    .dataframe tbody tr th:only-of-type {\n",
       "        vertical-align: middle;\n",
       "    }\n",
       "\n",
       "    .dataframe tbody tr th {\n",
       "        vertical-align: top;\n",
       "    }\n",
       "\n",
       "    .dataframe thead th {\n",
       "        text-align: right;\n",
       "    }\n",
       "</style>\n",
       "<table border=\"1\" class=\"dataframe\">\n",
       "  <thead>\n",
       "    <tr style=\"text-align: right;\">\n",
       "      <th></th>\n",
       "      <th>wavelength</th>\n",
       "      <th>frequency</th>\n",
       "      <th>gf</th>\n",
       "      <th>A</th>\n",
       "    </tr>\n",
       "  </thead>\n",
       "  <tbody>\n",
       "    <tr>\n",
       "      <th>0</th>\n",
       "      <td>6562.8</td>\n",
       "      <td>4.570000e+14</td>\n",
       "      <td>0.641</td>\n",
       "      <td>44100000.0</td>\n",
       "    </tr>\n",
       "    <tr>\n",
       "      <th>1</th>\n",
       "      <td>4861.3</td>\n",
       "      <td>6.170000e+14</td>\n",
       "      <td>0.119</td>\n",
       "      <td>8420000.0</td>\n",
       "    </tr>\n",
       "    <tr>\n",
       "      <th>2</th>\n",
       "      <td>4340.5</td>\n",
       "      <td>6.910000e+14</td>\n",
       "      <td>0.044</td>\n",
       "      <td>2530000.0</td>\n",
       "    </tr>\n",
       "  </tbody>\n",
       "</table>\n",
       "</div>"
      ],
      "text/plain": [
       "   wavelength     frequency     gf           A\n",
       "0      6562.8  4.570000e+14  0.641  44100000.0\n",
       "1      4861.3  6.170000e+14  0.119   8420000.0\n",
       "2      4340.5  6.910000e+14  0.044   2530000.0"
      ]
     },
     "execution_count": 3,
     "metadata": {},
     "output_type": "execute_result"
    }
   ],
   "source": [
    "data = {\n",
    "    'wavelength': [6562.8, 4861.3, 4340.5],  # Balmer series (Hα, Hβ, Hγ)\n",
    "    'frequency': [4.57e14, 6.17e14, 6.91e14],  # Hz\n",
    "    'gf': [0.641, 0.119, 0.044],  # dimensionless (oscillator strength)\n",
    "    'A': [4.41e7, 8.42e6, 2.53e6]  # Einstein A coefficients (1/s)\n",
    "}\n",
    "df = pd.DataFrame(data)\n",
    "df"
   ]
  },
  {
   "cell_type": "code",
   "execution_count": 5,
   "id": "d9b5a7c1",
   "metadata": {},
   "outputs": [],
   "source": [
    "metadata = {\n",
    "    'references': [\n",
    "        {\n",
    "            'doi': '10.1051/0004-6361/201526937',\n",
    "            'description': 'NIST Atomic Spectra Database'\n",
    "        },\n",
    "        {\n",
    "            'bibcode': '2016A&A...586A.129K',\n",
    "            'description': 'Kurucz Atomic Line List'\n",
    "        }\n",
    "    ],\n",
    "    'units': {\n",
    "        'wavelength': 'nm',  # Override default Angstrom\n",
    "        'ion_charge': None   # Dimensionless (if present)\n",
    "    }\n",
    "}"
   ]
  },
  {
   "cell_type": "code",
   "execution_count": 6,
   "id": "69f2a603",
   "metadata": {},
   "outputs": [
    {
     "name": "stdout",
     "output_type": "stream",
     "text": [
      "Saved to atomic_data_with_metadata.h5\n"
     ]
    }
   ],
   "source": [
    "output_path = \"atomic_data_with_metadata.h5\"\n",
    "save_to_hdf(\n",
    "    df=df,\n",
    "    path=output_path,\n",
    "    data_source=\"NIST/Kurucz\",\n",
    "    description=\"Balmer series atomic transition data\",\n",
    "    metadata=metadata\n",
    ")\n",
    "print(f\"Saved to {output_path}\")"
   ]
  },
  {
   "cell_type": "code",
   "execution_count": 7,
   "id": "3e4c6feb",
   "metadata": {},
   "outputs": [
    {
     "name": "stdout",
     "output_type": "stream",
     "text": [
      "Atomic Data:\n"
     ]
    },
    {
     "data": {
      "text/html": [
       "<div>\n",
       "<style scoped>\n",
       "    .dataframe tbody tr th:only-of-type {\n",
       "        vertical-align: middle;\n",
       "    }\n",
       "\n",
       "    .dataframe tbody tr th {\n",
       "        vertical-align: top;\n",
       "    }\n",
       "\n",
       "    .dataframe thead th {\n",
       "        text-align: right;\n",
       "    }\n",
       "</style>\n",
       "<table border=\"1\" class=\"dataframe\">\n",
       "  <thead>\n",
       "    <tr style=\"text-align: right;\">\n",
       "      <th></th>\n",
       "      <th>wavelength</th>\n",
       "      <th>frequency</th>\n",
       "      <th>gf</th>\n",
       "      <th>A</th>\n",
       "    </tr>\n",
       "  </thead>\n",
       "  <tbody>\n",
       "    <tr>\n",
       "      <th>0</th>\n",
       "      <td>6562.8</td>\n",
       "      <td>4.570000e+14</td>\n",
       "      <td>0.641</td>\n",
       "      <td>44100000.0</td>\n",
       "    </tr>\n",
       "    <tr>\n",
       "      <th>1</th>\n",
       "      <td>4861.3</td>\n",
       "      <td>6.170000e+14</td>\n",
       "      <td>0.119</td>\n",
       "      <td>8420000.0</td>\n",
       "    </tr>\n",
       "    <tr>\n",
       "      <th>2</th>\n",
       "      <td>4340.5</td>\n",
       "      <td>6.910000e+14</td>\n",
       "      <td>0.044</td>\n",
       "      <td>2530000.0</td>\n",
       "    </tr>\n",
       "  </tbody>\n",
       "</table>\n",
       "</div>"
      ],
      "text/plain": [
       "   wavelength     frequency     gf           A\n",
       "0      6562.8  4.570000e+14  0.641  44100000.0\n",
       "1      4861.3  6.170000e+14  0.119   8420000.0\n",
       "2      4340.5  6.910000e+14  0.044   2530000.0"
      ]
     },
     "metadata": {},
     "output_type": "display_data"
    },
    {
     "name": "stdout",
     "output_type": "stream",
     "text": [
      "\n",
      "Metadata:\n",
      "creation_date: 2025-03-29T08:34:19.247992\n",
      "creator: Carsus\n",
      "data_source: NIST/Kurucz\n",
      "description: Balmer series atomic transition data\n",
      "units: {'A': '1 / s', 'frequency': 'Hz', 'ion_charge': 'None', 'wavelength': 'nm'}\n",
      "references: [{'description': 'NIST Atomic Spectra Database', 'doi': '10.1051/0004-6361/201526937', 'url': 'https://doi.org/10.1051/0004-6361/201526937'}, {'bibcode': '2016A&A...586A.129K', 'description': 'Kurucz Atomic Line List'}]\n",
      "git_info: {'commit_date': '2025-03-27 14:32:06 -0400', 'commit_hash': '9e6f9d11e6ae8f7616b973aae12b025e9b9e45c5', 'repository': 'carsus'}\n"
     ]
    }
   ],
   "source": [
    "result = read_hdf_with_metadata(output_path)\n",
    "\n",
    "# Display the atomic data\n",
    "print(\"Atomic Data:\")\n",
    "display(result['data'])\n",
    "\n",
    "# Display metadata\n",
    "print(\"\\nMetadata:\")\n",
    "for key, value in result['metadata'].items():\n",
    "    print(f\"{key}: {value}\")"
   ]
  },
  {
   "cell_type": "code",
   "execution_count": 8,
   "id": "5ec66ee2",
   "metadata": {},
   "outputs": [
    {
     "name": "stdout",
     "output_type": "stream",
     "text": [
      "HDF5 file structure:\n",
      "<KeysViewHDF5 ['atomic_data', 'metadata']>\n",
      "\n",
      "Metadata group contents:\n",
      "['creation_date', 'creator', 'data_source', 'description']\n",
      "['git_info', 'references', 'units']\n"
     ]
    }
   ],
   "source": [
    "import h5py\n",
    "\n",
    "with h5py.File(output_path, 'r') as f:\n",
    "    print(\"HDF5 file structure:\")\n",
    "    print(f.keys())  # Should show 'atomic_data' and 'metadata'\n",
    "    \n",
    "    print(\"\\nMetadata group contents:\")\n",
    "    metadata_group = f['metadata']\n",
    "    print(list(metadata_group.attrs))  # Top-level attributes\n",
    "    print(list(metadata_group.keys())) # Subgroups (units, references, git_info)"
   ]
  }
 ],
 "metadata": {
  "kernelspec": {
   "display_name": "Python 3 (ipykernel)",
   "language": "python",
   "name": "python3"
  },
  "language_info": {
   "codemirror_mode": {
    "name": "ipython",
    "version": 3
   },
   "file_extension": ".py",
   "mimetype": "text/x-python",
   "name": "python",
   "nbconvert_exporter": "python",
   "pygments_lexer": "ipython3",
   "version": "3.12.9"
  }
 },
 "nbformat": 4,
 "nbformat_minor": 5
}
